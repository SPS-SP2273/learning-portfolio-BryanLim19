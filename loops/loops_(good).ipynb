{
 "cells": [
  {
   "cell_type": "markdown",
   "id": "123456",
   "metadata": {},
   "source": [
    "<div style=\"text-align:left;font-size:2em\"><span style=\"font-weight:bolder;font-size:1.25em\">SP2273 | Learning Portfolio</span><br><br><span style=\"font-weight:bold;color:darkred\">Loops (Good)</span></div>"
   ]
  },
  {
   "cell_type": "markdown",
   "id": "a3761494",
   "metadata": {},
   "source": [
    "## 1 Interrupting the flow"
   ]
  },
  {
   "cell_type": "code",
   "execution_count": 4,
   "id": "78546015",
   "metadata": {},
   "outputs": [
    {
     "name": "stdout",
     "output_type": "stream",
     "text": [
      "0\n",
      "1\n",
      "2\n",
      "3\n",
      "4\n",
      "5\n",
      "6\n",
      "0\n",
      "1\n",
      "2\n",
      "3\n",
      "5\n",
      "6\n",
      "7\n",
      "8\n",
      "9\n",
      "1\n",
      "3\n",
      "5\n",
      "7\n",
      "9\n"
     ]
    }
   ],
   "source": [
    "for i in range(10):\n",
    "    if i > 6: break\n",
    "    print(i)\n",
    "\n",
    "for i in range(10):\n",
    "    if i == 4: continue\n",
    "    print(i)\n",
    "    \n",
    "for i in range(10):\n",
    "    if i %2 == 0: continue\n",
    "    print(i)"
   ]
  },
  {
   "cell_type": "markdown",
   "id": "afafeb79",
   "metadata": {},
   "source": [
    "## 2 List comprehension!"
   ]
  },
  {
   "cell_type": "markdown",
   "id": "6ba32db5",
   "metadata": {},
   "source": [
    "### 2.1 Basic syntax"
   ]
  },
  {
   "cell_type": "code",
   "execution_count": 6,
   "id": "aaa337f5",
   "metadata": {},
   "outputs": [
    {
     "data": {
      "text/plain": [
       "[0, 1, 4, 9, 16, 25, 36, 49, 64, 81]"
      ]
     },
     "execution_count": 6,
     "metadata": {},
     "output_type": "execute_result"
    }
   ],
   "source": [
    "[number for number in range(10)]\n",
    "[number**2 for number in range(10)]"
   ]
  },
  {
   "cell_type": "markdown",
   "id": "d91e074e",
   "metadata": {},
   "source": [
    "### 2.2 List comprehension with conditions"
   ]
  },
  {
   "cell_type": "code",
   "execution_count": 8,
   "id": "b82c89d0",
   "metadata": {},
   "outputs": [
    {
     "data": {
      "text/plain": [
       "[1, 9, 25, 49, 81]"
      ]
     },
     "execution_count": 8,
     "metadata": {},
     "output_type": "execute_result"
    }
   ],
   "source": [
    "[number for number in range(10) if number % 2 ==0]\n",
    "[number**2 for number in range(10) if number %2 == 1]"
   ]
  },
  {
   "cell_type": "markdown",
   "id": "7a86c6bc",
   "metadata": {},
   "source": [
    "## 3 Other useful stuff"
   ]
  },
  {
   "cell_type": "markdown",
   "id": "52cffa7e",
   "metadata": {},
   "source": [
    "### 3.1 for with unpacking"
   ]
  },
  {
   "cell_type": "code",
   "execution_count": 10,
   "id": "009e6b82",
   "metadata": {},
   "outputs": [
    {
     "name": "stdout",
     "output_type": "stream",
     "text": [
      "x = 1, y = 2, z = 3\n",
      "Natasha Romanoff is Marvel's Black Widow!\n",
      "Tony Stark is Marvel's Iron Man!\n",
      "Stephen Strange is Marvel's Doctor Strange!\n"
     ]
    }
   ],
   "source": [
    "x, y, z=[1, 2, 3]\n",
    "print(f'x = {x}, y = {y}, z = {z}')\n",
    "\n",
    "py_superhero_info=[['Natasha Romanoff', 'Black Widow'],\n",
    "                     ['Tony Stark', 'Iron Man'],\n",
    "                     ['Stephen Strange', 'Doctor Strange']]\n",
    "\n",
    "for real_name, super_name in py_superhero_info:\n",
    "    print(f\"{real_name} is Marvel's {super_name}!\")"
   ]
  },
  {
   "cell_type": "markdown",
   "id": "cdf80ab2",
   "metadata": {},
   "source": [
    "### 3.2 for with a zip()"
   ]
  },
  {
   "cell_type": "code",
   "execution_count": 11,
   "id": "5720dd3e",
   "metadata": {},
   "outputs": [
    {
     "name": "stdout",
     "output_type": "stream",
     "text": [
      "HSH1000 is titled The Human Condition!\n",
      "HSS1000 is titled Understanding Social Complexity!\n",
      "HSA1000 is titled Asian Interconnections!\n"
     ]
    }
   ],
   "source": [
    "module_codes = [\"HSH1000\", \"HSS1000\", \"HSA1000\"]\n",
    "module_names = [\"The Human Condition\", \"Understanding Social Complexity\", \"Asian Interconnections\"]\n",
    "\n",
    "for module_code, module_name in zip(module_codes, module_names):\n",
    "    print(f\"{module_code} is titled {module_name}!\")"
   ]
  },
  {
   "cell_type": "markdown",
   "id": "93995171",
   "metadata": {},
   "source": [
    "### 3.3 for with dictionaries"
   ]
  },
  {
   "cell_type": "code",
   "execution_count": 12,
   "id": "2efff861",
   "metadata": {},
   "outputs": [
    {
     "name": "stdout",
     "output_type": "stream",
     "text": [
      "Natasha Romanoff is Marvel's Black Widow!\n",
      "Tony Stark is Marvel's Iron Man!\n",
      "Stephen Strange is Marvel's Doctor Strange!\n"
     ]
    }
   ],
   "source": [
    "superhero_info={\"Natasha Romanoff\": \"Black Widow\",\n",
    "                \"Tony Stark\": \"Iron Man\",\n",
    "                \"Stephen Strange\": \"Doctor Strange\"}\n",
    "\n",
    "for key, value in superhero_info.items():\n",
    "    print(f\"{key} is Marvel's {value}!\")"
   ]
  },
  {
   "cell_type": "markdown",
   "id": "3783593f",
   "metadata": {},
   "source": [
    "## Exercise 1 :  Make me an odd list"
   ]
  },
  {
   "cell_type": "code",
   "execution_count": 16,
   "id": "7833466c",
   "metadata": {},
   "outputs": [
    {
     "name": "stdout",
     "output_type": "stream",
     "text": [
      "1\n",
      "9\n",
      "25\n",
      "49\n",
      "81\n"
     ]
    }
   ],
   "source": [
    "for i in range(10):\n",
    "    if i %2 == 0:continue\n",
    "    print(i**2)"
   ]
  },
  {
   "cell_type": "markdown",
   "id": "fdf80404",
   "metadata": {},
   "source": [
    "## Exercise 2 :  Make me another odd list"
   ]
  },
  {
   "cell_type": "code",
   "execution_count": 17,
   "id": "2b3298ff",
   "metadata": {},
   "outputs": [
    {
     "data": {
      "text/plain": [
       "[1, 9, 25, 49, 81]"
      ]
     },
     "execution_count": 17,
     "metadata": {},
     "output_type": "execute_result"
    }
   ],
   "source": [
    "[number**2 for number in range(10) if number %2 == 1]"
   ]
  },
  {
   "cell_type": "markdown",
   "id": "53acd181",
   "metadata": {},
   "source": [
    "## Exercise 3 :  Time me!"
   ]
  },
  {
   "cell_type": "code",
   "execution_count": 29,
   "id": "5f0cfb7b",
   "metadata": {},
   "outputs": [
    {
     "name": "stdout",
     "output_type": "stream",
     "text": [
      "1\n",
      "9\n",
      "25\n",
      "49\n",
      "81\n"
     ]
    },
    {
     "name": "stderr",
     "output_type": "stream",
     "text": [
      "UsageError: Line magic function `%%timeit` not found.\n"
     ]
    }
   ],
   "source": [
    "for i in range(10):\n",
    "    if i %2 == 0:continue\n",
    "    print(i**2) #49.4us\n",
    "\n",
    "%%timeit [number**2 for number in range(10) if number %2 == 1]"
   ]
  }
 ],
 "metadata": {
  "kernelspec": {
   "display_name": "Python 3 (ipykernel)",
   "language": "python",
   "name": "python3"
  },
  "language_info": {
   "codemirror_mode": {
    "name": "ipython",
    "version": 3
   },
   "file_extension": ".py",
   "mimetype": "text/x-python",
   "name": "python",
   "nbconvert_exporter": "python",
   "pygments_lexer": "ipython3",
   "version": "3.10.8"
  },
  "toc": {
   "base_numbering": 1,
   "nav_menu": {},
   "number_sections": true,
   "sideBar": true,
   "skip_h1_title": false,
   "title_cell": "Table of Contents",
   "title_sidebar": "Contents",
   "toc_cell": false,
   "toc_position": {},
   "toc_section_display": true,
   "toc_window_display": false
  },
  "vscode": {
   "interpreter": {
    "hash": "31f2aee4e71d21fbe5cf8b01ff0e069b9275f58929596ceb00d14d90e3e16cd6"
   }
  }
 },
 "nbformat": 4,
 "nbformat_minor": 5
}
