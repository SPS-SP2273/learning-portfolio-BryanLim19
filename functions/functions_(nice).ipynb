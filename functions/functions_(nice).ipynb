{
 "cells": [
  {
   "cell_type": "markdown",
   "id": "123456",
   "metadata": {},
   "source": [
    "<div style=\"text-align:left;font-size:2em\"><span style=\"font-weight:bolder;font-size:1.25em\">SP2273 | Learning Portfolio</span><br><br><span style=\"font-weight:bold;color:darkred\">Functions (Nice)</span></div>"
   ]
  },
  {
   "cell_type": "markdown",
   "id": "8097eb32",
   "metadata": {},
   "source": [
    "## 1 Other things you can do with functions"
   ]
  },
  {
   "cell_type": "markdown",
   "id": "85fc5b91",
   "metadata": {},
   "source": [
    "### 1.1 Modularise and reuse"
   ]
  },
  {
   "cell_type": "code",
   "execution_count": null,
   "id": "3a8e8e55",
   "metadata": {},
   "outputs": [],
   "source": []
  },
  {
   "cell_type": "markdown",
   "id": "174dabbe",
   "metadata": {},
   "source": [
    "## 2 *args & **kwarg"
   ]
  },
  {
   "cell_type": "markdown",
   "id": "42fefdaa",
   "metadata": {},
   "source": [
    "### 2.1 *args"
   ]
  },
  {
   "cell_type": "code",
   "execution_count": 3,
   "id": "b5964432",
   "metadata": {},
   "outputs": [
    {
     "data": {
      "text/plain": [
       "6"
      ]
     },
     "execution_count": 3,
     "metadata": {},
     "output_type": "execute_result"
    }
   ],
   "source": [
    "def multiply(*args):\n",
    "    result = 1\n",
    "    for number in args:\n",
    "        result *= number\n",
    "\n",
    "    return result\n",
    "\n",
    "numbers = [1, 2, 3]\n",
    "multiply(*numbers)"
   ]
  },
  {
   "cell_type": "markdown",
   "id": "a65a9e4b",
   "metadata": {},
   "source": [
    "### 2.2 **kwargs"
   ]
  },
  {
   "cell_type": "code",
   "execution_count": null,
   "id": "ea21a240",
   "metadata": {},
   "outputs": [],
   "source": [
    "def add_powers(**kwargs):\n",
    "    numbers = kwargs['numbers']\n",
    "    power = kwargs['power']\n",
    "\n",
    "    result = 1\n",
    "    for number in numbers:\n",
    "        result *= number**power\n",
    "\n",
    "    return result\n",
    "\n",
    "\n",
    "# Let's use the function\n",
    "add_powers(numbers=[1, 2, 3], power=2)"
   ]
  },
  {
   "cell_type": "markdown",
   "id": "8f6d5a33",
   "metadata": {},
   "source": [
    "### 2.3 Passing variable to functions"
   ]
  },
  {
   "cell_type": "code",
   "execution_count": null,
   "id": "cb0cf99c",
   "metadata": {},
   "outputs": [],
   "source": []
  },
  {
   "cell_type": "markdown",
   "id": "6d17f00d",
   "metadata": {},
   "source": [
    "## 3 There is more to exceptions"
   ]
  },
  {
   "cell_type": "markdown",
   "id": "0b7cfdcf",
   "metadata": {},
   "source": [
    "### 3.1 A list of exceptions"
   ]
  },
  {
   "cell_type": "code",
   "execution_count": null,
   "id": "0bbf2ada",
   "metadata": {},
   "outputs": [],
   "source": [
    "\n",
    "# Your code here\n"
   ]
  },
  {
   "cell_type": "markdown",
   "id": "e0210dd2",
   "metadata": {},
   "source": [
    "### 3.2 Handling specific exceptions"
   ]
  },
  {
   "cell_type": "code",
   "execution_count": null,
   "id": "8c61f9ae",
   "metadata": {},
   "outputs": [],
   "source": [
    "\n",
    "# Your code here\n"
   ]
  },
  {
   "cell_type": "markdown",
   "id": "18e80e41",
   "metadata": {},
   "source": [
    "### 3.3 try also has an else"
   ]
  },
  {
   "cell_type": "code",
   "execution_count": null,
   "id": "ed4b129c",
   "metadata": {},
   "outputs": [],
   "source": [
    "\n",
    "# Your code here\n"
   ]
  },
  {
   "cell_type": "markdown",
   "id": "fda9e29d",
   "metadata": {},
   "source": [
    "## Explore 1 :  Modularise"
   ]
  },
  {
   "cell_type": "markdown",
   "id": "1ab6dfbb",
   "metadata": {},
   "source": [
    "## Explore 2 :  Angles and trig functions"
   ]
  }
 ],
 "metadata": {
  "kernelspec": {
   "display_name": "Python 3 (ipykernel)",
   "language": "python",
   "name": "python3"
  },
  "language_info": {
   "codemirror_mode": {
    "name": "ipython",
    "version": 3
   },
   "file_extension": ".py",
   "mimetype": "text/x-python",
   "name": "python",
   "nbconvert_exporter": "python",
   "pygments_lexer": "ipython3",
   "version": "3.10.8"
  },
  "toc": {
   "base_numbering": 1,
   "nav_menu": {},
   "number_sections": true,
   "sideBar": true,
   "skip_h1_title": false,
   "title_cell": "Table of Contents",
   "title_sidebar": "Contents",
   "toc_cell": false,
   "toc_position": {},
   "toc_section_display": true,
   "toc_window_display": false
  },
  "vscode": {
   "interpreter": {
    "hash": "31f2aee4e71d21fbe5cf8b01ff0e069b9275f58929596ceb00d14d90e3e16cd6"
   }
  }
 },
 "nbformat": 4,
 "nbformat_minor": 5
}
