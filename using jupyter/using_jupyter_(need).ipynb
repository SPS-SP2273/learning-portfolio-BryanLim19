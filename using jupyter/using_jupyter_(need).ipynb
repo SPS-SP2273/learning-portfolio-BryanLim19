{
 "cells": [
  {
   "cell_type": "markdown",
   "id": "123456",
   "metadata": {},
   "source": [
    "<div style=\"text-align:left;font-size:2em\"><span style=\"font-weight:bolder;font-size:1.25em\">SP2273 | Learning Portfolio</span><br><br><span style=\"font-weight:bold;color:darkred\">Using Jupyter (Need)</span></div>"
   ]
  },
  {
   "cell_type": "markdown",
   "id": "f03080b2",
   "metadata": {},
   "source": [
    "## 1 Getting started with Jupyter"
   ]
  },
  {
   "cell_type": "markdown",
   "id": "1eea606d",
   "metadata": {},
   "source": [
    "### 1.1 Its all about running cells"
   ]
  },
  {
   "cell_type": "markdown",
   "id": "69fcdac7",
   "metadata": {},
   "source": [
    "To run cell, press shift+start\n"
   ]
  },
  {
   "cell_type": "markdown",
   "id": "36eb5d1d",
   "metadata": {},
   "source": [
    "### 1.2 A traditional start"
   ]
  },
  {
   "cell_type": "code",
   "execution_count": 2,
   "id": "2416d533",
   "metadata": {},
   "outputs": [
    {
     "name": "stdout",
     "output_type": "stream",
     "text": [
      "fuck u\n"
     ]
    }
   ],
   "source": [
    "print('fuck u')\n"
   ]
  },
  {
   "cell_type": "markdown",
   "id": "0eaff0e1",
   "metadata": {},
   "source": [
    "## 2 All about Markdown"
   ]
  },
  {
   "cell_type": "markdown",
   "id": "6ed6ecca",
   "metadata": {},
   "source": [
    "### 2.1 Rendering Markdown cells"
   ]
  },
  {
   "cell_type": "markdown",
   "id": "08e27591",
   "metadata": {},
   "source": [
    "The ships hung in the sky in much the same way that bricks don't\n"
   ]
  },
  {
   "cell_type": "markdown",
   "id": "a36c03a2",
   "metadata": {},
   "source": [
    "### 2.2 Some basic syntax"
   ]
  },
  {
   "cell_type": "markdown",
   "id": "ad20a591",
   "metadata": {},
   "source": [
    "The ships *hung in the sky* in much the same way that **bricks don't**.<sup>1</sup><sub>QUOTE</sub>\n"
   ]
  },
  {
   "cell_type": "markdown",
   "id": "e1ff89f8",
   "metadata": {},
   "source": [
    "### 2.3 Headings"
   ]
  },
  {
   "cell_type": "markdown",
   "id": "2aaf3101",
   "metadata": {},
   "source": [
    "# The largest boi\n",
    "\n",
    "## The second largest boi\n",
    "\n",
    "### The third largest boi\n",
    "\n",
    "###### The smallest boi\n"
   ]
  },
  {
   "cell_type": "markdown",
   "id": "72f8644f",
   "metadata": {},
   "source": [
    "### 2.4 Displaying Code"
   ]
  },
  {
   "cell_type": "markdown",
   "id": "69b046bd",
   "metadata": {},
   "source": [
    "```python\n",
    "print('fuck u understand')\n",
    "```\n"
   ]
  },
  {
   "cell_type": "markdown",
   "id": "415bed29",
   "metadata": {},
   "source": [
    "### 2.5 Links"
   ]
  },
  {
   "cell_type": "markdown",
   "id": "43e3bc03",
   "metadata": {},
   "source": [
    "[CM2112 AY22/23 Sem 2 Finals Answers.pdf](https://www.youtube.com/watch?v=dQw4w9WgXcQ&ab_channel=RickAstley)"
   ]
  },
  {
   "cell_type": "markdown",
   "id": "c4f783fe",
   "metadata": {},
   "source": [
    "### 2.6 Images"
   ]
  },
  {
   "cell_type": "markdown",
   "id": "d2718012",
   "metadata": {},
   "source": [
    "![](https://animecorner.me/wp-content/uploads/2022/11/bocchi-the-rock-anime-trailer.jpg)"
   ]
  },
  {
   "cell_type": "markdown",
   "id": "b31f237c",
   "metadata": {},
   "source": [
    "### 2.7 Tables"
   ]
  },
  {
   "cell_type": "markdown",
   "id": "cf26ba63",
   "metadata": {},
   "source": [
    "|A|B|C|\n",
    "|:---|:--:|---:|\n",
    "|A1|B1|C1|\n",
    "|A2|B2|C2|\n",
    "|A3|B3|C3|"
   ]
  },
  {
   "cell_type": "markdown",
   "id": "6bb5418c",
   "metadata": {},
   "source": [
    "### 2.8 Lists"
   ]
  },
  {
   "cell_type": "markdown",
   "id": "de9a3990",
   "metadata": {},
   "source": [
    "1. francis chong\n",
    "- actually good\n",
    "- very nice person in general\n",
    "2. chng shu sin\n",
    "- sucks\n",
    "3. chin wee siong\n",
    "- sucks more\n"
   ]
  },
  {
   "cell_type": "markdown",
   "id": "b45d4423",
   "metadata": {},
   "source": [
    "### 2.9 Equations"
   ]
  },
  {
   "cell_type": "markdown",
   "id": "00484f52",
   "metadata": {},
   "source": [
    "$$\n",
    "x = \\dfrac{-b \\pm \\sqrt{b^2-4ac}}{2a}\n",
    "$$"
   ]
  },
  {
   "cell_type": "markdown",
   "id": "32adb0ea",
   "metadata": {},
   "source": [
    "## Exercise 1 :  Put it in Markdown"
   ]
  },
  {
   "cell_type": "markdown",
   "id": "da004879",
   "metadata": {},
   "source": [
    "**Quadratic Equations**\n",
    "\n",
    "![](https://upload.wikimedia.org/wikipedia/commons/thumb/f/f8/Polynomialdeg2.svg/300px-Polynomialdeg2.svg.png)\n",
    "\n",
    "(Image from the [Wikipedia page on quadratic equations](https://en.wikipedia.org/wiki/Quadratic_equation))\n",
    "\n",
    "**Introduction**\n",
    "\n",
    "The general form of a quadratic equation is:\n",
    "\n",
    "$$\n",
    "ax^2 + bx + c = 0\n",
    "$$\n",
    "\n",
    "**Solutions**\n",
    "\n",
    "Provided $a \\ne 0$, we can use an elementary algebraic method called [completing the square](https://en.wikipedia.org/wiki/Completing_the_square) to show that a quadratic equation has the following solution:\n",
    "\n",
    "$$\n",
    "x = \\dfrac{-b \\pm \\sqrt{b^2-4ac}}{2a}\n",
    "$$\n",
    "\n",
    "**Discriminant**\n",
    "\n",
    "The quantity $\\delta$ = $b^2$ - 4ac is called the **discriminant** of the equation and decides the nature of its solutions. The table below shows the various possibilities:\n",
    "\n",
    "|Discriminant|Roots|\n",
    "|:---|---:|\n",
    "|$$\\Delta = b^2 - 4ac = 0$$|A single solution of $\\dfrac{-b}{2a}$|\n",
    "|$$\\Delta = b^2 - 4ac \\gt 0$$|Two distinct solutions|\n",
    "|$$\\Delta = b^2 - 4ac \\lt 0$$|No real solutions; both are complex|\n",
    "\n",
    "\n"
   ]
  },
  {
   "cell_type": "markdown",
   "id": "0c1108bd",
   "metadata": {},
   "source": [
    "## Exercise 2 :  In your own words"
   ]
  },
  {
   "cell_type": "markdown",
   "id": "7ade4af7",
   "metadata": {},
   "source": [
    "1. A repository is a record of changes made to a set of code\n",
    "1. changes\n",
    "1. A commit is an upload of a change from the local host to the local github\n",
    "1. A push is an upload of a change from the local github to the remote github, allowing other users to see said change\n",
    "1. Github is the online cloud, while Github desktop is the local cloud\n",
    "1. Fetch from remote Github\n",
    "\n",
    "\n",
    "\n",
    "\n",
    "\n"
   ]
  },
  {
   "cell_type": "code",
   "execution_count": null,
   "id": "c0358a88",
   "metadata": {},
   "outputs": [],
   "source": []
  }
 ],
 "metadata": {
  "kernelspec": {
   "display_name": "Python 3 (ipykernel)",
   "language": "python",
   "name": "python3"
  },
  "language_info": {
   "codemirror_mode": {
    "name": "ipython",
    "version": 3
   },
   "file_extension": ".py",
   "mimetype": "text/x-python",
   "name": "python",
   "nbconvert_exporter": "python",
   "pygments_lexer": "ipython3",
   "version": "3.10.8"
  },
  "toc": {
   "base_numbering": 1,
   "nav_menu": {},
   "number_sections": true,
   "sideBar": true,
   "skip_h1_title": false,
   "title_cell": "Table of Contents",
   "title_sidebar": "Contents",
   "toc_cell": false,
   "toc_position": {},
   "toc_section_display": true,
   "toc_window_display": false
  },
  "vscode": {
   "interpreter": {
    "hash": "31f2aee4e71d21fbe5cf8b01ff0e069b9275f58929596ceb00d14d90e3e16cd6"
   }
  }
 },
 "nbformat": 4,
 "nbformat_minor": 5
}
